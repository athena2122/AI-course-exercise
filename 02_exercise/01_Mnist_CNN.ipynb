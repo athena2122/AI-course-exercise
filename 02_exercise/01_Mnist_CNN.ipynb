{
 "cells": [
  {
   "cell_type": "code",
   "execution_count": 3,
   "metadata": {
    "collapsed": true
   },
   "outputs": [],
   "source": [
    "import tensorflow as tf\n",
    "from tensorflow.examples.tutorials.mnist import input_data\n",
    "import matplotlib.pyplot as plt"
   ]
  },
  {
   "cell_type": "code",
   "execution_count": 4,
   "metadata": {},
   "outputs": [
    {
     "name": "stdout",
     "output_type": "stream",
     "text": [
      "Extracting MNIST_data\\train-images-idx3-ubyte.gz\n"
     ]
    },
    {
     "name": "stdout",
     "output_type": "stream",
     "text": [
      "Extracting MNIST_data\\train-labels-idx1-ubyte.gz\nExtracting MNIST_data\\t10k-images-idx3-ubyte.gz\nExtracting MNIST_data\\t10k-labels-idx1-ubyte.gz\n"
     ]
    },
    {
     "name": "stdout",
     "output_type": "stream",
     "text": [
      "train_nums: 55000,validation_nums:5000,test_nums:10000\n"
     ]
    }
   ],
   "source": [
    "mnist = input_data.read_data_sets('MNIST_data',one_hot=True)\n",
    "#1.获取数据集个数\n",
    "train_nums = mnist.train.num_examples\n",
    "validation_nums = mnist.validation.num_examples\n",
    "test_nums = mnist.test.num_examples\n",
    "print(\"train_nums: %d,validation_nums:%d,test_nums:%d\" % (train_nums,validation_nums,test_nums))"
   ]
  },
  {
   "cell_type": "code",
   "execution_count": 5,
   "metadata": {},
   "outputs": [
    {
     "name": "stdout",
     "output_type": "stream",
     "text": [
      "训练集数据大小： (55000, 784)\n一张图片的特征: 784\n训练集标签大小： (55000, 10)\n标签值大小： 10\n"
     ]
    }
   ],
   "source": [
    "#2.获取数据值\n",
    "train_data = mnist.train.images\n",
    "val_data = mnist.validation.images\n",
    "test_data = mnist.test.images\n",
    "print(\"训练集数据大小：\",train_data.shape)\n",
    "print(\"一张图片的特征:\",train_data.shape[1])\n",
    "#3.获取标签值\n",
    "train_labels = mnist.train.labels\n",
    "validation_labels = mnist.validation.labels\n",
    "test_labels = mnist.test.labels\n",
    "print(\"训练集标签大小：\",train_labels.shape)\n",
    "print(\"标签值大小：\",train_labels.shape[1])"
   ]
  },
  {
   "cell_type": "code",
   "execution_count": 4,
   "metadata": {},
   "outputs": [
    {
     "data": {
      "text/plain": [
       "<matplotlib.image.AxesImage at 0x2181ac2bc18>"
      ]
     },
     "execution_count": 4,
     "metadata": {},
     "output_type": "execute_result"
    },
    {
     "data": {
      "image/png": "[encoded data removed]",
      "text/plain": [
       "<matplotlib.figure.Figure at 0x2181a823588>"
      ]
     },
     "metadata": {},
     "output_type": "display_data"
    }
   ],
   "source": [
    "#测试图片\n",
    "from matplotlib.pyplot import imshow\n",
    "%matplotlib inline\n",
    "image_arr = train_data[100].reshape((28,28))\n",
    "imshow(image_arr)"
   ]
  },
  {
   "cell_type": "code",
   "execution_count": 5,
   "metadata": {},
   "outputs": [],
   "source": [
    "x = tf.placeholder(dtype=tf.float32,shape=[None,784])\n",
    "y = tf.placeholder(dtype=tf.float32,shape=[None,10])\n",
    "x_image = tf.reshape(x,shape = [-1,28,28,1])\n",
    "#构建计算图\n",
    "#输入[None,28,28,1]  输出：[None,24,24,6]\n",
    "conv1 = tf.layers.conv2d(x_image,6,\n",
    "                         kernel_size=(5,5),\n",
    "                         strides=(1,1),\n",
    "                         padding=\"valid\",\n",
    "                         activation=tf.nn.relu,\n",
    "                         name=\"conv1\")\n",
    "#输入：[None,24,24,6] 输出：[None,12,12,6]\n",
    "pool1 = tf.layers.average_pooling2d(conv1,\n",
    "                                    pool_size=(2,2),\n",
    "                                    strides=(2,2),\n",
    "                                    name=\"avg_pooling1\")\n",
    "#输入：[None,12,12,6] 输出：[NOne,8,8,16]\n",
    "conv2 = tf.layers.conv2d(pool1,filters=16,\n",
    "                         kernel_size=(5,5),\n",
    "                         strides=(1,1),\n",
    "                         activation=tf.nn.relu,\n",
    "                         name=\"conv2\")\n",
    "#输入：[None,8,8,16] 输出：[NOne,4,4,16]\n",
    "pool2 = tf.layers.average_pooling2d(conv2,\n",
    "                                    pool_size=(2,2),\n",
    "                                    strides=(2,2),\n",
    "                                    name=\"avg_pooling2\")\n",
    "#输入：4*4*16 = 256 \n",
    "flatten = tf.contrib.layers.flatten(pool2)\n",
    "#全连接层 120个神经元\n",
    "fc1 = tf.layers.dense(flatten,120,tf.nn.relu)\n",
    "#全连接层 84个神经元\n",
    "fc2 = tf.layers.dense(fc1,84,tf.nn.relu)\n",
    "#输出层\n",
    "y_ = tf.layers.dense(fc2,10)\n",
    "\n",
    "# 计算损失\n",
    "loss = tf.reduce_mean(tf.nn.softmax_cross_entropy_with_logits(labels=y,logits=y_))\n",
    "\n",
    "#利用梯度下降优化\n",
    "train_op = tf.train.AdamOptimizer(0.001).minimize(loss)\n",
    "# 计算准确率\n",
    "equal_list = tf.equal(tf.argmax(y_,1),tf.argmax(y,1))\n",
    "accuracy = tf.reduce_mean(tf.cast(equal_list,tf.float32))"
   ]
  },
  {
   "cell_type": "code",
   "execution_count": 6,
   "metadata": {},
   "outputs": [
    {
     "name": "stdout",
     "output_type": "stream",
     "text": [
      "[Train] Step: 500, loss: 0.30442, acc: 0.85000\n"
     ]
    },
    {
     "name": "stdout",
     "output_type": "stream",
     "text": [
      "[Train] Step: 1000, loss: 0.27377, acc: 0.90000\n"
     ]
    },
    {
     "name": "stdout",
     "output_type": "stream",
     "text": [
      "[Train] Step: 1500, loss: 0.02586, acc: 1.00000\n"
     ]
    },
    {
     "name": "stdout",
     "output_type": "stream",
     "text": [
      "[Train] Step: 2000, loss: 0.33328, acc: 0.90000\n"
     ]
    },
    {
     "name": "stdout",
     "output_type": "stream",
     "text": [
      "[Train] Step: 2500, loss: 0.10996, acc: 0.95000\n"
     ]
    },
    {
     "name": "stdout",
     "output_type": "stream",
     "text": [
      "[Train] Step: 3000, loss: 0.00909, acc: 1.00000\n"
     ]
    },
    {
     "name": "stdout",
     "output_type": "stream",
     "text": [
      "[Train] Step: 3500, loss: 0.10166, acc: 1.00000\n"
     ]
    },
    {
     "name": "stdout",
     "output_type": "stream",
     "text": [
      "[Train] Step: 4000, loss: 0.00306, acc: 1.00000\n"
     ]
    },
    {
     "name": "stdout",
     "output_type": "stream",
     "text": [
      "[Train] Step: 4500, loss: 0.11304, acc: 0.95000\n"
     ]
    },
    {
     "name": "stdout",
     "output_type": "stream",
     "text": [
      "[Train] Step: 5000, loss: 0.11628, acc: 0.95000\n"
     ]
    },
    {
     "name": "stdout",
     "output_type": "stream",
     "text": [
      "[Test ] Step: 5000, acc: 0.97890\n"
     ]
    },
    {
     "name": "stdout",
     "output_type": "stream",
     "text": [
      "[Train] Step: 5500, loss: 0.39822, acc: 0.95000\n"
     ]
    },
    {
     "name": "stdout",
     "output_type": "stream",
     "text": [
      "[Train] Step: 6000, loss: 0.07731, acc: 0.95000\n"
     ]
    },
    {
     "name": "stdout",
     "output_type": "stream",
     "text": [
      "[Train] Step: 6500, loss: 0.01127, acc: 1.00000\n"
     ]
    },
    {
     "name": "stdout",
     "output_type": "stream",
     "text": [
      "[Train] Step: 7000, loss: 0.00252, acc: 1.00000\n"
     ]
    },
    {
     "name": "stdout",
     "output_type": "stream",
     "text": [
      "[Train] Step: 7500, loss: 0.00178, acc: 1.00000\n"
     ]
    },
    {
     "name": "stdout",
     "output_type": "stream",
     "text": [
      "[Train] Step: 8000, loss: 0.00618, acc: 1.00000\n"
     ]
    },
    {
     "name": "stdout",
     "output_type": "stream",
     "text": [
      "[Train] Step: 8500, loss: 0.00311, acc: 1.00000\n"
     ]
    },
    {
     "name": "stdout",
     "output_type": "stream",
     "text": [
      "[Train] Step: 9000, loss: 0.00912, acc: 1.00000\n"
     ]
    },
    {
     "name": "stdout",
     "output_type": "stream",
     "text": [
      "[Train] Step: 9500, loss: 0.00680, acc: 1.00000\n"
     ]
    },
    {
     "name": "stdout",
     "output_type": "stream",
     "text": [
      "[Train] Step: 10000, loss: 0.00758, acc: 1.00000\n"
     ]
    },
    {
     "name": "stdout",
     "output_type": "stream",
     "text": [
      "[Test ] Step: 10000, acc: 0.98390\n"
     ]
    }
   ],
   "source": [
    "import numpy as np\n",
    "batch_size = 20\n",
    "train_steps = 10000\n",
    "test_steps = 500\n",
    "init_op = tf.global_variables_initializer()\n",
    "with tf.Session()as sess:\n",
    "    sess.run(init_op)\n",
    "    for i in range(train_steps):\n",
    "        batch_x,batch_y = mnist.train.next_batch(batch_size)\n",
    "        loss_val,acc_val,_ = sess.run([loss,accuracy,train_op],feed_dict={x:batch_x,y:batch_y})\n",
    "        if (i+1) % 500 == 0:\n",
    "            print ('[Train] Step: %d, loss: %4.5f, acc: %4.5f' % (i+1, loss_val,acc_val))\n",
    "        if(i+1) % 5000 == 0:\n",
    "            all_test_acc_val = []\n",
    "            for j in range(test_steps):\n",
    "                test_x,test_y = mnist.test.next_batch(batch_size)\n",
    "                acc_val = sess.run(accuracy,feed_dict={x:test_x,y:test_y})\n",
    "                all_test_acc_val.append(acc_val)\n",
    "            test_acc = np.mean(all_test_acc_val)\n",
    "            print ('[Test ] Step: %d, acc: %4.5f' % (i+1, test_acc))  \n",
    "                "
   ]
  },
  {
   "cell_type": "code",
   "execution_count": null,
   "metadata": {},
   "outputs": [],
   "source": []
  }
 ],
 "metadata": {
  "kernelspec": {
   "display_name": "Python 2",
   "language": "python",
   "name": "python2"
  },
  "language_info": {
   "codemirror_mode": {
    "name": "ipython",
    "version": 2
   },
   "file_extension": ".py",
   "mimetype": "text/x-python",
   "name": "python",
   "nbconvert_exporter": "python",
   "pygments_lexer": "ipython2",
   "version": "2.7.6"
  }
 },
 "nbformat": 4,
 "nbformat_minor": 0
}
