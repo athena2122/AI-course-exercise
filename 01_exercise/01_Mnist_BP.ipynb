{
 "cells": [
  {
   "cell_type": "code",
   "execution_count": 2,
   "metadata": {
    "collapsed": true
   },
   "outputs": [],
   "source": [
    "import tensorflow as tf\n",
    "import numpy as np\n",
    "from tensorflow.examples.tutorials.mnist import input_data\n",
    "import matplotlib.pyplot as plt"
   ]
  },
  {
   "cell_type": "code",
   "execution_count": 3,
   "metadata": {},
   "outputs": [
    {
     "name": "stdout",
     "output_type": "stream",
     "text": [
      "Extracting MNIST_data\\train-images-idx3-ubyte.gz\n"
     ]
    },
    {
     "name": "stdout",
     "output_type": "stream",
     "text": [
      "Extracting MNIST_data\\train-labels-idx1-ubyte.gz\nExtracting MNIST_data\\t10k-images-idx3-ubyte.gz\n"
     ]
    },
    {
     "name": "stdout",
     "output_type": "stream",
     "text": [
      "Extracting MNIST_data\\t10k-labels-idx1-ubyte.gz\n"
     ]
    },
    {
     "name": "stdout",
     "output_type": "stream",
     "text": [
      "train_nums: 55000,validation_nums:5000,test_nums:10000\n"
     ]
    }
   ],
   "source": [
    "mnist = input_data.read_data_sets('MNIST_data',one_hot=True)\n",
    "#1.获取数据集(tensorflow中已经进行封装)\n",
    "train_nums = mnist.train.num_examples\n",
    "validation_nums = mnist.validation.num_examples\n",
    "test_nums = mnist.test.num_examples\n",
    "print(\"train_nums: %d,validation_nums:%d,test_nums:%d\" % (train_nums,validation_nums,test_nums))"
   ]
  },
  {
   "cell_type": "code",
   "execution_count": 7,
   "metadata": {},
   "outputs": [
    {
     "name": "stdout",
     "output_type": "stream",
     "text": [
      "训练集数据大小： (55000, 784)\n一张图片的形状: 55000\n训练集标签大小： (55000, 10)\n标签值大小： 55000\n"
     ]
    }
   ],
   "source": [
    "#2.获取数据值\n",
    "train_data = mnist.train.images\n",
    "val_data = mnist.validation.images\n",
    "test_data = mnist.test.images\n",
    "print(\"训练集数据大小：\",train_data.shape)\n",
    "print(\"一张图片的形状:\",train_data.shape[0])\n",
    "#3.获取标签值\n",
    "train_labels = mnist.train.labels\n",
    "validation_labels = mnist.validation.labels\n",
    "test_labels = mnist.test.labels\n",
    "print(\"训练集标签大小：\",train_labels.shape)\n",
    "print(\"标签值大小：\",train_labels.shape[0])"
   ]
  },
  {
   "cell_type": "code",
   "execution_count": 8,
   "metadata": {},
   "outputs": [],
   "source": [
    "x = tf.placeholder(dtype=tf.float32,shape=[None,784])\n",
    "y = tf.placeholder(dtype=tf.float32,shape=[None,10])\n",
    "#3.构建计算图\n",
    "#inputs:输入该网络层的数据  units:输出的维度大小 activation:激活函数\n",
    "hidden1 = tf.layers.dense(x,100,activation=tf.nn.relu)\n",
    "hidden2 = tf.layers.dense(hidden1,100,activation=tf.nn.relu)\n",
    "hidden3 = tf.layers.dense(hidden2,80,activation=tf.nn.relu)\n",
    "#输出层\n",
    "y_ = tf.layers.dense(hidden3,10)\n",
    "#计算损失\n",
    "loss = tf.reduce_mean(tf.nn.softmax_cross_entropy_with_logits(labels=y,logits=y_))\n",
    "\n",
    "#利用梯度下降进行优化\n",
    "train_op = tf.train.AdamOptimizer(0.001).minimize(loss)\n",
    "#计算准确率\n",
    "equal_list = tf.equal(tf.argmax(y_,1),tf.argmax(y,1))\n",
    "accuracy = tf.reduce_mean(tf.cast(equal_list,tf.float32))\n"
   ]
  },
  {
   "cell_type": "code",
   "execution_count": 9,
   "metadata": {},
   "outputs": [
    {
     "name": "stdout",
     "output_type": "stream",
     "text": [
      "[Train] Step: 500, loss: 0.04440, acc: 1.00000\n"
     ]
    },
    {
     "name": "stdout",
     "output_type": "stream",
     "text": [
      "[Train] Step: 1000, loss: 0.30462, acc: 0.90000\n"
     ]
    },
    {
     "name": "stdout",
     "output_type": "stream",
     "text": [
      "[Train] Step: 1500, loss: 0.25642, acc: 0.90000\n"
     ]
    },
    {
     "name": "stdout",
     "output_type": "stream",
     "text": [
      "[Train] Step: 2000, loss: 0.40721, acc: 0.85000\n"
     ]
    },
    {
     "name": "stdout",
     "output_type": "stream",
     "text": [
      "[Train] Step: 2500, loss: 0.31812, acc: 0.95000\n"
     ]
    },
    {
     "name": "stdout",
     "output_type": "stream",
     "text": [
      "[Train] Step: 3000, loss: 0.28410, acc: 0.90000\n"
     ]
    },
    {
     "name": "stdout",
     "output_type": "stream",
     "text": [
      "[Train] Step: 3500, loss: 0.07629, acc: 0.95000\n"
     ]
    },
    {
     "name": "stdout",
     "output_type": "stream",
     "text": [
      "[Train] Step: 4000, loss: 0.15422, acc: 0.90000\n"
     ]
    },
    {
     "name": "stdout",
     "output_type": "stream",
     "text": [
      "[Train] Step: 4500, loss: 0.05601, acc: 1.00000\n"
     ]
    },
    {
     "name": "stdout",
     "output_type": "stream",
     "text": [
      "[Train] Step: 5000, loss: 0.03417, acc: 1.00000\n"
     ]
    },
    {
     "name": "stdout",
     "output_type": "stream",
     "text": [
      "[Test ] Step: 5000, acc: 0.96100\n"
     ]
    },
    {
     "name": "stdout",
     "output_type": "stream",
     "text": [
      "[Train] Step: 5500, loss: 0.00479, acc: 1.00000\n"
     ]
    },
    {
     "name": "stdout",
     "output_type": "stream",
     "text": [
      "[Train] Step: 6000, loss: 0.04316, acc: 1.00000\n"
     ]
    },
    {
     "name": "stdout",
     "output_type": "stream",
     "text": [
      "[Train] Step: 6500, loss: 0.12340, acc: 0.90000\n"
     ]
    },
    {
     "name": "stdout",
     "output_type": "stream",
     "text": [
      "[Train] Step: 7000, loss: 0.08905, acc: 0.95000\n"
     ]
    },
    {
     "name": "stdout",
     "output_type": "stream",
     "text": [
      "[Train] Step: 7500, loss: 0.02487, acc: 1.00000\n"
     ]
    },
    {
     "name": "stdout",
     "output_type": "stream",
     "text": [
      "[Train] Step: 8000, loss: 0.01876, acc: 1.00000\n"
     ]
    },
    {
     "name": "stdout",
     "output_type": "stream",
     "text": [
      "[Train] Step: 8500, loss: 0.16753, acc: 0.95000\n"
     ]
    },
    {
     "name": "stdout",
     "output_type": "stream",
     "text": [
      "[Train] Step: 9000, loss: 0.46203, acc: 0.95000\n"
     ]
    },
    {
     "name": "stdout",
     "output_type": "stream",
     "text": [
      "[Train] Step: 9500, loss: 0.00184, acc: 1.00000\n"
     ]
    },
    {
     "name": "stdout",
     "output_type": "stream",
     "text": [
      "[Train] Step: 10000, loss: 0.01808, acc: 1.00000\n"
     ]
    },
    {
     "name": "stdout",
     "output_type": "stream",
     "text": [
      "[Test ] Step: 10000, acc: 0.97360\n"
     ]
    }
   ],
   "source": [
    "# 进行训练\n",
    "init_op = tf.global_variables_initializer()\n",
    "batch_size = 20\n",
    "train_steps = 10000\n",
    "test_steps = 500\n",
    "with tf.Session()as sess:\n",
    "    sess.run(init_op)\n",
    "    for i in range(train_steps):\n",
    "        batch_x,batch_y = mnist.train.next_batch(batch_size)\n",
    "        loss_val,acc_val,_ = sess.run([loss,accuracy,train_op],feed_dict={x:batch_x,y:batch_y})\n",
    "        if (i+1) % 500 == 0:\n",
    "            print ('[Train] Step: %d, loss: %4.5f, acc: %4.5f' % (i+1, loss_val,acc_val))\n",
    "        if(i+1) % 5000 == 0:\n",
    "            all_test_acc_val = []\n",
    "            for j in range(test_steps):\n",
    "                test_x,test_y = mnist.test.next_batch(batch_size)\n",
    "                acc_val = sess.run(accuracy,feed_dict={x:test_x,y:test_y})\n",
    "                all_test_acc_val.append(acc_val)\n",
    "            test_acc = np.mean(all_test_acc_val)\n",
    "            print ('[Test ] Step: %d, acc: %4.5f' % (i+1, test_acc))  "
   ]
  },
  {
   "cell_type": "code",
   "execution_count": null,
   "metadata": {},
   "outputs": [],
   "source": []
  }
 ],
 "metadata": {
  "kernelspec": {
   "display_name": "Python 2",
   "language": "python",
   "name": "python2"
  },
  "language_info": {
   "codemirror_mode": {
    "name": "ipython",
    "version": 2
   },
   "file_extension": ".py",
   "mimetype": "text/x-python",
   "name": "python",
   "nbconvert_exporter": "python",
   "pygments_lexer": "ipython2",
   "version": "2.7.6"
  }
 },
 "nbformat": 4,
 "nbformat_minor": 0
}
